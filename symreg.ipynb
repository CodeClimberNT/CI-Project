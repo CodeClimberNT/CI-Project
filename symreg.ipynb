{
 "cells": [
  {
   "cell_type": "markdown",
   "metadata": {},
   "source": [
    "Copyright **`(c)`** 2024 Giovanni Squillero `<giovanni.squillero@polito.it>`  \n",
    "[`https://github.com/squillero/computational-intelligence`](https://github.com/squillero/computational-intelligence)  \n",
    "Free under certain conditions — see the [`license`](https://github.com/squillero/computational-intelligence/blob/master/LICENSE.md) for details.  "
   ]
  },
  {
   "cell_type": "code",
   "execution_count": 2,
   "metadata": {},
   "outputs": [],
   "source": [
    "import numpy as np\n",
    "\n",
    "import os\n",
    "\n",
    "PROBLEM_DIR: str = os.getcwd()\n",
    "DATA_DIR: str = os.path.join(PROBLEM_DIR, \"data\")\n",
    "os.makedirs(DATA_DIR, exist_ok=True)"
   ]
  },
  {
   "cell_type": "code",
   "execution_count": 3,
   "metadata": {},
   "outputs": [],
   "source": [
    "def true_f(x: np.ndarray) -> np.ndarray:\n",
    "    return x[0] + np.sin(x[1]) / 5\n"
   ]
  },
  {
   "cell_type": "code",
   "execution_count": 4,
   "metadata": {},
   "outputs": [
    {
     "name": "stdout",
     "output_type": "stream",
     "text": [
      "Dataset Shape: x.shape=(2, 100000)\n",
      "Labels Shape: y.shape=(100000,)\n"
     ]
    }
   ],
   "source": [
    "DATASET_SIZE = 100_000\n",
    "\n",
    "x: np.ndarray = np.vstack(\n",
    "    [\n",
    "        np.random.random_sample(size=DATASET_SIZE) * 2 * np.pi - np.pi,\n",
    "        np.random.random_sample(size=DATASET_SIZE) * 2 - 1,\n",
    "    ]\n",
    ")\n",
    "y = true_f(x)\n",
    "print(f\"Dataset Shape: {x.shape=}\")\n",
    "print(f\"Labels Shape: {y.shape=}\")\n",
    "\n",
    "\n",
    "np.savez(\n",
    "    os.path.join(DATA_DIR, \"problem_0.npz\"),\n",
    "    x=x,\n",
    "    y=y,\n",
    ")"
   ]
  },
  {
   "cell_type": "markdown",
   "metadata": {},
   "source": [
    "## Evaluation"
   ]
  },
  {
   "cell_type": "code",
   "execution_count": 5,
   "metadata": {},
   "outputs": [
    {
     "ename": "ModuleNotFoundError",
     "evalue": "No module named 'result'",
     "output_type": "error",
     "traceback": [
      "\u001b[1;31m---------------------------------------------------------------------------\u001b[0m",
      "\u001b[1;31mModuleNotFoundError\u001b[0m                       Traceback (most recent call last)",
      "Cell \u001b[1;32mIn[5], line 1\u001b[0m\n\u001b[1;32m----> 1\u001b[0m \u001b[38;5;28;01mfrom\u001b[39;00m \u001b[38;5;21;01mresult\u001b[39;00m \u001b[38;5;28;01mimport\u001b[39;00m predicted_function\n",
      "\u001b[1;31mModuleNotFoundError\u001b[0m: No module named 'result'"
     ]
    }
   ],
   "source": [
    "from result import predicted_function"
   ]
  },
  {
   "cell_type": "code",
   "execution_count": null,
   "metadata": {},
   "outputs": [
    {
     "data": {
      "text/plain": [
       "(2, 75000)"
      ]
     },
     "execution_count": 18,
     "metadata": {},
     "output_type": "execute_result"
    }
   ],
   "source": [
    "problem = np.load(os.path.join(DATA_DIR, \"problem_0.npz\"))\n",
    "x_test = problem[\"x\"]\n",
    "y_test = problem[\"y\"]\n",
    "x.shape"
   ]
  },
  {
   "cell_type": "code",
   "execution_count": null,
   "metadata": {},
   "outputs": [
    {
     "name": "stdout",
     "output_type": "stream",
     "text": [
      "MSE (train): 178.853\n",
      "MSE (real) : 178.394\n"
     ]
    }
   ],
   "source": [
    "mse_train = 100 * np.square(y - predicted_function(x)).sum() / len(y)\n",
    "mse_val = 100 * np.square(y_test - predicted_function(x_test)).sum() / len(y_test)\n",
    "print(f\"MSE (train): {mse_train:g}\")\n",
    "print(f\"MSE (real) : {mse_val:g}\")"
   ]
  }
 ],
 "metadata": {
  "kernelspec": {
   "display_name": ".venv",
   "language": "python",
   "name": "python3"
  },
  "language_info": {
   "codemirror_mode": {
    "name": "ipython",
    "version": 3
   },
   "file_extension": ".py",
   "mimetype": "text/x-python",
   "name": "python",
   "nbconvert_exporter": "python",
   "pygments_lexer": "ipython3",
   "version": "3.12.7"
  }
 },
 "nbformat": 4,
 "nbformat_minor": 2
}
