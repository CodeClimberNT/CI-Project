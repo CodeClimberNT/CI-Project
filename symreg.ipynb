{
 "cells": [
  {
   "cell_type": "markdown",
   "metadata": {},
   "source": [
    "Copyright **`(c)`** 2024 Giovanni Squillero `<giovanni.squillero@polito.it>`  \n",
    "[`https://github.com/squillero/computational-intelligence`](https://github.com/squillero/computational-intelligence)  \n",
    "Free under certain conditions — see the [`license`](https://github.com/squillero/computational-intelligence/blob/master/LICENSE.md) for details.  "
   ]
  },
  {
   "cell_type": "code",
   "execution_count": 16,
   "metadata": {},
   "outputs": [],
   "source": [
    "import numpy as np\n",
    "\n",
    "import os\n",
    "\n",
    "PROBLEM_DIR: str = os.getcwd()\n",
    "DATA_DIR: str = os.path.join(PROBLEM_DIR, \"data\")\n",
    "os.makedirs(DATA_DIR, exist_ok=True)"
   ]
  },
  {
   "cell_type": "code",
   "execution_count": 17,
   "metadata": {},
   "outputs": [],
   "source": [
    "def true_f(x: np.ndarray) -> np.ndarray:\n",
    "    return np.exp(np.cos(x[0])) + np.log(x[1])"
   ]
  },
  {
   "cell_type": "code",
   "execution_count": null,
   "metadata": {},
   "outputs": [
    {
     "name": "stdout",
     "output_type": "stream",
     "text": [
      "Dataset Shape: x.shape=(2, 1000)\n",
      "Labels Shape: y.shape=(1000,)\n"
     ]
    }
   ],
   "source": [
    "DATASET_SIZE = 1_000\n",
    "\n",
    "x: np.ndarray = np.vstack(\n",
    "    [\n",
    "        np.random.random_sample(size=DATASET_SIZE) * 2 * 4*np.pi - 4*np.pi,\n",
    "        np.random.random_sample(size=DATASET_SIZE) * 10 +2,\n",
    "    ]\n",
    ")\n",
    "y = true_f(x)\n",
    "print(f\"Dataset Shape: {x.shape=}\")\n",
    "print(f\"Labels Shape: {y.shape=}\")\n",
    "\n",
    "\n",
    "np.savez(\n",
    "    os.path.join(DATA_DIR, \"problem_0.npz\"),\n",
    "    x=x,\n",
    "    y=y,\n",
    ")\n",
    "\n",
    "\n",
    "x0 = [\n",
    "    0,\n",
    "    1,\n",
    "    2,\n",
    "    3,\n",
    "    4,\n",
    "]\n",
    "x1 = [5, 6, 7, 8, 9]"
   ]
  }
 ],
 "metadata": {
  "kernelspec": {
   "display_name": ".venv",
   "language": "python",
   "name": "python3"
  },
  "language_info": {
   "codemirror_mode": {
    "name": "ipython",
    "version": 3
   },
   "file_extension": ".py",
   "mimetype": "text/x-python",
   "name": "python",
   "nbconvert_exporter": "python",
   "pygments_lexer": "ipython3",
   "version": "3.12.7"
  }
 },
 "nbformat": 4,
 "nbformat_minor": 2
}
